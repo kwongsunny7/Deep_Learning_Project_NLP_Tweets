{
 "cells": [
  {
   "cell_type": "code",
   "execution_count": 3,
   "metadata": {},
   "outputs": [],
   "source": [
    "import torch \n",
    "import torch.autograd as autograd \n",
    "import torch.nn as nn \n",
    "import torch.nn.functional as F\n",
    "import torch.optim as optim\n",
    "import numpy as np\n",
    "import spacy\n",
    "import re\n",
    "import pandas as pd\n",
    "import matplotlib.pyplot as plt\n",
    "\n",
    "from sklearn.metrics import f1_score\n",
    "from sklearn.model_selection import train_test_split\n",
    "from collections import defaultdict\n",
    "from torch.nn.utils.rnn import pack_padded_sequence, pad_packed_sequence\n",
    "from torch.utils.data import Dataset, DataLoader\n",
    "from vaderSentiment.vaderSentiment import SentimentIntensityAnalyzer"
   ]
  },
  {
   "cell_type": "markdown",
   "metadata": {},
   "source": [
    "## Functions for Cleaning Text"
   ]
  },
  {
   "cell_type": "code",
   "execution_count": 4,
   "metadata": {},
   "outputs": [],
   "source": [
    "re_br = re.compile(r'<\\s*br\\s*/?>', re.IGNORECASE)\n",
    "def sub_br(x): return re_br.sub(\"\\n\", x)\n",
    "\n",
    "my_tok = spacy.load('en')\n",
    "def spacy_tok(x): return [tok.text for tok in my_tok.tokenizer(sub_br(x))]"
   ]
  },
  {
   "cell_type": "markdown",
   "metadata": {},
   "source": [
    "## Functions for Sentiment Analysis"
   ]
  },
  {
   "cell_type": "code",
   "execution_count": 5,
   "metadata": {},
   "outputs": [],
   "source": [
    "def sentiment(arr):\n",
    "    scores = []\n",
    "    analyser = SentimentIntensityAnalyzer()\n",
    "    for row in arr:\n",
    "        text = re.sub(r'^https?:\\/\\/.*[\\r\\n]*', '', row, flags=re.MULTILINE)\n",
    "        text = re.sub(r'^http?:\\/\\/.*[\\r\\n]*', '', row, flags=re.MULTILINE)\n",
    "        scores.append(list(analyser.polarity_scores(text).values()))\n",
    "    return np.array(scores)"
   ]
  },
  {
   "cell_type": "markdown",
   "metadata": {},
   "source": [
    "## Functions for Encoding Sentences"
   ]
  },
  {
   "cell_type": "code",
   "execution_count": 6,
   "metadata": {},
   "outputs": [],
   "source": [
    "def get_vocab(content):\n",
    "    \"\"\"Computes Dict of counts of words.\n",
    "    \n",
    "    Computes the number of times a word is on a document.\n",
    "    \"\"\"\n",
    "    vocab = defaultdict(float)\n",
    "    for line in content:\n",
    "        for word in line.split():\n",
    "            vocab[word] += 1\n",
    "    return vocab\n",
    "\n",
    "def encode_sentence(x, vocab2index, N=26, padding_start=True):\n",
    "    enc = np.zeros(N, dtype=np.int32)\n",
    "    enc1 = [vocab2index.get(w, vocab2index[\"UNK\"]) for w in x.split()]\n",
    "    l = min(N, len(enc1))\n",
    "    if padding_start:\n",
    "        enc[N-l:] = enc1[:l]\n",
    "    else:\n",
    "        enc = enc1[:l]\n",
    "    return enc"
   ]
  },
  {
   "cell_type": "code",
   "execution_count": 70,
   "metadata": {},
   "outputs": [],
   "source": [
    "class TweetDataset(Dataset):\n",
    "    def __init__(self, X, y, vocab2index, N = 26,padding_start = True):\n",
    "        self.X = np.array([encode_sentence(x,vocab2index, N, padding_start) for x in X])\n",
    "        self.y = y\n",
    "    \n",
    "    def __len__(self):\n",
    "        return len(self.y)\n",
    "    \n",
    "    def __getitem__(self, idx):\n",
    "        x = self.X[idx]\n",
    "        return x, self.y[idx]"
   ]
  },
  {
   "cell_type": "markdown",
   "metadata": {},
   "source": [
    "## Gather Pre-Training Embeddings"
   ]
  },
  {
   "cell_type": "code",
   "execution_count": 8,
   "metadata": {},
   "outputs": [],
   "source": [
    "def unpack_glove():\n",
    "    ! wget http://nlp.stanford.edu/data/glove.6B.zip\n",
    "    ! mkdir data\n",
    "    ! unzip glove.6B.zip\n",
    "    \n",
    "def delete_rare_words(word_vecs, word_count, min_df=4):\n",
    "    words_delete = []\n",
    "    for word in word_count:\n",
    "        if word_count[word] < min_df and word not in word_vecs:\n",
    "            words_delete.append(word)\n",
    "    for word in words_delete: word_count.pop(word)\n",
    "    return word_count\n",
    "\n",
    "def loadGloveModel(gloveFile=\"glove.6B.50d.txt\"):\n",
    "    \"\"\" Loads word vecgors into a dictionary\"\"\"\n",
    "    f = open(gloveFile,'r')\n",
    "    word_vecs = {}\n",
    "    for line in f:\n",
    "        splitLine = line.split()\n",
    "        word = splitLine[0]\n",
    "        word_vecs[word] = np.array([float(val) for val in splitLine[1:]])\n",
    "    return word_vecs\n",
    "\n",
    "def create_embedding_matrix(word_vecs, word_count, min_df=4, emb_size=50):\n",
    "    \"\"\"Creates embedding matrix from word vectors. \"\"\"\n",
    "    word_count = delete_rare_words(word_vecs, word_count, min_df)\n",
    "    V = len(word_count.keys()) + 2\n",
    "    vocab2index = {}\n",
    "    W = np.zeros((V, emb_size), dtype=\"float32\")\n",
    "    vocab = [\"\", \"UNK\"]\n",
    "    # adding a vector for padding\n",
    "    W[0] = np.zeros(emb_size, dtype='float32')\n",
    "    # adding a vector for rare words \n",
    "    W[1] = np.random.uniform(-0.25, 0.25, emb_size)\n",
    "    vocab2index[\"UNK\"] = 1\n",
    "    i = 2\n",
    "    for word in word_count:\n",
    "        if word in word_vecs:\n",
    "            W[i] = word_vecs[word]\n",
    "            vocab2index[word] = i\n",
    "            vocab.append(word)\n",
    "            i += 1\n",
    "        else:\n",
    "            W[i] = np.random.uniform(-0.25,0.25, emb_size)\n",
    "            vocab2index[word] = i\n",
    "            vocab.append(word)\n",
    "            i += 1   \n",
    "    return W, np.array(vocab), vocab2index"
   ]
  },
  {
   "cell_type": "markdown",
   "metadata": {},
   "source": [
    "## CNN Model "
   ]
  },
  {
   "cell_type": "code",
   "execution_count": 89,
   "metadata": {},
   "outputs": [],
   "source": [
    "class Tweet_CNN(nn.Module):\n",
    "    def __init__(self, vocab_size, emb_size, hidden_dim = 25,glove_weights=None):\n",
    "        super(Tweet_CNN, self).__init__()\n",
    "        self.embed = nn.Embedding(vocab_size, emb_size, padding_idx = 0)\n",
    "        \n",
    "        if glove_weights is not None:\n",
    "            self.embed.weight.data.copy_(torch.from_numpy(glove_weights))\n",
    "            self.embed.weight.requires_grad = False\n",
    "            \n",
    "        # For the Text Data\n",
    "        self.conv1 = nn.Conv1d(emb_size, hidden_dim, kernel_size=1)\n",
    "        self.conv2 = nn.Conv1d(emb_size, hidden_dim, kernel_size=2)\n",
    "        self.conv3 = nn.Conv1d(emb_size, hidden_dim, kernel_size=3)\n",
    "        \n",
    "        self.pool1 = nn.AvgPool1d(kernel_size = 26)\n",
    "        self.pool2 = nn.AvgPool1d(kernel_size = 25)\n",
    "        self.pool3 = nn.AvgPool1d(kernel_size = 24)\n",
    "        \n",
    "        # For Both\n",
    "        self.bn = nn.BatchNorm1d(hidden_dim*3)\n",
    "        self.dropout = nn.Dropout(p=0.5)\n",
    "        self.fc = nn.Linear(hidden_dim*3, 1)\n",
    "\n",
    "    def forward(self, x):\n",
    "        x = self.embed(x)\n",
    "        x = x.transpose(1,2)\n",
    "        x1 = self.pool1(F.relu(self.conv1(x)))\n",
    "        x2 = self.pool2(F.relu(self.conv2(x)))\n",
    "        x3 = self.pool3(F.relu(self.conv3(x)))\n",
    "        \n",
    "        out = torch.cat([x1, x2, x3], 2)\n",
    "        #out = torch.cat([x2, x3], 2)\n",
    "        out = out.view(out.size(0), -1)\n",
    "        out = self.dropout(self.bn(out))\n",
    "        \n",
    "        return self.fc(out)"
   ]
  },
  {
   "cell_type": "markdown",
   "metadata": {},
   "source": [
    "## Training Functions"
   ]
  },
  {
   "cell_type": "code",
   "execution_count": 10,
   "metadata": {},
   "outputs": [],
   "source": [
    "def save_model(m, p): torch.save(m.state_dict(), p)\n",
    "    \n",
    "def load_model(m, p): m.load_state_dict(torch.load(p))"
   ]
  },
  {
   "cell_type": "code",
   "execution_count": 39,
   "metadata": {},
   "outputs": [],
   "source": [
    "def train_epocs(model, optimizer, epochs=10, max_lr=0.01):\n",
    "    max_f1 = 0\n",
    "    max_acc = 0\n",
    "    min_loss = 1000000\n",
    "    for i in range(epochs):\n",
    "        model.train()\n",
    "        total_loss = 0\n",
    "        total = 0\n",
    "        iterations = epochs*len(train_dl)\n",
    "        idx = 0\n",
    "        lrs = get_cosine_triangular_lr(max_lr, iterations)\n",
    "        for x, y in train_dl:\n",
    "            lr = lrs[idx]\n",
    "            update_optimizer(optimizer,lr)\n",
    "            x = x.long()\n",
    "            y = y.float().unsqueeze(1)\n",
    "            out = model(x)\n",
    "            loss = F.binary_cross_entropy_with_logits(out, y)\n",
    "            optimizer.zero_grad()\n",
    "            loss.backward()\n",
    "            optimizer.step()\n",
    "            total_loss += x.size(0)*loss.item()\n",
    "            total += x.size(0)\n",
    "            idx +=1\n",
    "        train_loss = total_loss/total\n",
    "        val_loss, val_accuracy, val_f1 = valid_metrics(model)\n",
    "        \n",
    "        if val_f1 > max_f1:\n",
    "            max_f1 = val_f1\n",
    "            max_acc = val_accuracy\n",
    "            min_loss = val_loss\n",
    "            path = \"models/model_f1_{0:.3f}.pth\".format(val_f1) \n",
    "            save_model(model, path)      \n",
    "        #if i % 20 == 0:\n",
    "        print(\"train_loss %.3f val_loss %.3f val_accuracy %.3f val_f1 %.3f\" % (\n",
    "                train_loss, val_loss, val_accuracy, val_f1))\n",
    "    #print(\"Best Scores: val_loss %.3f val_accuracy %.3f val_f1 %.3f\" % (\n",
    "    #             min_loss, max_acc, max_f1))"
   ]
  },
  {
   "cell_type": "code",
   "execution_count": 40,
   "metadata": {},
   "outputs": [],
   "source": [
    "def valid_metrics(model):\n",
    "    model.eval()\n",
    "    total = 0\n",
    "    sum_loss = 0\n",
    "    correct = 0\n",
    "    y_all = []\n",
    "    y_pred_all = []\n",
    "    for x, y in valid_dl:\n",
    "        x = x.long()\n",
    "        y = y.float().unsqueeze(1)\n",
    "        batch = y.shape[0]\n",
    "        out = model(x)\n",
    "        loss = F.binary_cross_entropy_with_logits(out, y)\n",
    "        sum_loss += batch*(loss.item())\n",
    "        total += batch\n",
    "        pred = (out > 0).float()\n",
    "        y_pred_all.extend(pred)\n",
    "        y_all.extend(y)\n",
    "        correct += (pred == y).float().sum().item()\n",
    "    val_loss = sum_loss/total\n",
    "    val_acc = correct/total\n",
    "    val_f1 = f1_score(y_pred_all, y_all)\n",
    "    return val_loss, val_acc, val_f1"
   ]
  },
  {
   "cell_type": "markdown",
   "metadata": {},
   "source": [
    "## Learning Rate Finding"
   ]
  },
  {
   "cell_type": "code",
   "execution_count": 41,
   "metadata": {},
   "outputs": [],
   "source": [
    "def cosine_segment(start_lr, end_lr, iterations):\n",
    "    i = np.arange(iterations)\n",
    "    c_i = 1 + np.cos(i*np.pi/iterations)\n",
    "    return end_lr + (start_lr - end_lr)/2 *c_i\n",
    "\n",
    "def get_cosine_triangular_lr(max_lr, iterations):\n",
    "    min_start, min_end = max_lr/25, max_lr/(25*1e4)\n",
    "    iter1 = int(0.3*iterations)\n",
    "    iter2 = iterations - iter1\n",
    "    segs = [cosine_segment(min_start, max_lr, iter1), cosine_segment(max_lr, min_end, iter2)]\n",
    "    return np.concatenate(segs)\n",
    "\n",
    "def update_optimizer(optimizer, lr):\n",
    "    for _,param_group in enumerate(optimizer.param_groups):\n",
    "        param_group[\"lr\"] = lr"
   ]
  },
  {
   "cell_type": "code",
   "execution_count": 42,
   "metadata": {},
   "outputs": [],
   "source": [
    "def LR_range_finder(model, optimizer, train_dl, lr_low=1e-5, lr_high=1e-2, epochs=2):\n",
    "    losses = []\n",
    "    iterations = epochs * len(train_dl)\n",
    "    delta = (lr_high - lr_low)/iterations\n",
    "    lrs = [lr_low + i*delta for i in range(iterations)]\n",
    "    model.train()\n",
    "    ind = 0\n",
    "    for i in range(epochs):\n",
    "        for x, y in train_dl:\n",
    "            lr = lrs[ind]\n",
    "            update_optimizer(optimizer,lr)\n",
    "            x = x.long() #.cuda()\n",
    "            y = y.float().unsqueeze(1) #.cuda()\n",
    "            out = model(x)\n",
    "            loss = F.binary_cross_entropy_with_logits(out, y)\n",
    "            optimizer.zero_grad()\n",
    "            loss.backward()\n",
    "            optimizer.step()\n",
    "            losses.append(loss.item())\n",
    "            ind +=1\n",
    "    return lrs, losses "
   ]
  },
  {
   "cell_type": "markdown",
   "metadata": {},
   "source": [
    "## Model Troubleshooting"
   ]
  },
  {
   "cell_type": "code",
   "execution_count": 43,
   "metadata": {},
   "outputs": [],
   "source": [
    "x, y = next(iter(train_dl))"
   ]
  },
  {
   "cell_type": "code",
   "execution_count": 808,
   "metadata": {},
   "outputs": [],
   "source": [
    "V = len(words)\n",
    "emb_size = 3"
   ]
  },
  {
   "cell_type": "code",
   "execution_count": 809,
   "metadata": {},
   "outputs": [],
   "source": [
    "embed = nn.Embedding(V, emb_size, padding_idx=0)"
   ]
  },
  {
   "cell_type": "code",
   "execution_count": 810,
   "metadata": {},
   "outputs": [],
   "source": [
    "# Kernal = 1"
   ]
  },
  {
   "cell_type": "code",
   "execution_count": 813,
   "metadata": {},
   "outputs": [],
   "source": [
    "x1 = embed(x.long())"
   ]
  },
  {
   "cell_type": "code",
   "execution_count": 816,
   "metadata": {},
   "outputs": [
    {
     "data": {
      "text/plain": [
       "torch.Size([2, 3, 26])"
      ]
     },
     "execution_count": 816,
     "metadata": {},
     "output_type": "execute_result"
    }
   ],
   "source": [
    "x1.transpose(1,2).shape"
   ]
  },
  {
   "cell_type": "code",
   "execution_count": 779,
   "metadata": {},
   "outputs": [],
   "source": [
    "x1 = embed(x.long())\n",
    "x1 = x1.transpose(1,2)\n",
    "x1.size()\n",
    "conv_1 = nn.Conv1d(in_channels=emb_size, out_channels=100, kernel_size=1)\n",
    "x1 = F.relu(conv_1(x1))\n",
    "pool1 = nn.MaxPool1d(kernel_size = 26)\n",
    "x1 = pool1(x1)"
   ]
  },
  {
   "cell_type": "code",
   "execution_count": 787,
   "metadata": {},
   "outputs": [
    {
     "data": {
      "text/plain": [
       "torch.Size([2, 100, 26])"
      ]
     },
     "execution_count": 787,
     "metadata": {},
     "output_type": "execute_result"
    }
   ],
   "source": [
    "conv_1(embed(x.long()).transpose(1,2)).shape"
   ]
  },
  {
   "cell_type": "code",
   "execution_count": 781,
   "metadata": {},
   "outputs": [
    {
     "data": {
      "text/plain": [
       "torch.Size([2, 100, 1])"
      ]
     },
     "execution_count": 781,
     "metadata": {},
     "output_type": "execute_result"
    }
   ],
   "source": [
    "x1.shape"
   ]
  },
  {
   "cell_type": "code",
   "execution_count": 763,
   "metadata": {},
   "outputs": [],
   "source": [
    "## Kernal = 2"
   ]
  },
  {
   "cell_type": "code",
   "execution_count": 764,
   "metadata": {},
   "outputs": [],
   "source": [
    "x2 = embed(x.long())\n",
    "x2 = x2.transpose(1,2)\n",
    "x2.size()\n",
    "conv_2 = nn.Conv1d(in_channels=emb_size, out_channels=100, kernel_size=2)\n",
    "x2 = F.relu(conv_2(x2))\n",
    "pool2 = nn.MaxPool1d(kernel_size = 25)\n",
    "x2 = pool2(x2)"
   ]
  },
  {
   "cell_type": "code",
   "execution_count": 765,
   "metadata": {},
   "outputs": [],
   "source": [
    "## Kernal = 3"
   ]
  },
  {
   "cell_type": "code",
   "execution_count": 766,
   "metadata": {},
   "outputs": [],
   "source": [
    "x3 = embed(x.long())\n",
    "x3 = x3.transpose(1,2)\n",
    "x3.size()\n",
    "conv_3 = nn.Conv1d(in_channels=emb_size, out_channels=100, kernel_size=3)\n",
    "x3 = F.relu(conv_3(x3))\n",
    "pool3 = nn.MaxPool1d(kernel_size = 24)\n",
    "x3 = pool3(x3)"
   ]
  },
  {
   "cell_type": "code",
   "execution_count": 751,
   "metadata": {},
   "outputs": [],
   "source": [
    "out = torch.cat([x1, x2, x3], 2)"
   ]
  },
  {
   "cell_type": "code",
   "execution_count": 788,
   "metadata": {},
   "outputs": [
    {
     "data": {
      "text/plain": [
       "torch.Size([2, 100, 3])"
      ]
     },
     "execution_count": 788,
     "metadata": {},
     "output_type": "execute_result"
    }
   ],
   "source": [
    "out.shape"
   ]
  },
  {
   "cell_type": "code",
   "execution_count": 789,
   "metadata": {},
   "outputs": [],
   "source": [
    "out = out.view(out.size(0), -1)"
   ]
  },
  {
   "cell_type": "code",
   "execution_count": 790,
   "metadata": {},
   "outputs": [],
   "source": [
    "dropout = nn.Dropout(p=0.2)\n",
    "out = dropout(bn(out))"
   ]
  },
  {
   "cell_type": "code",
   "execution_count": 792,
   "metadata": {},
   "outputs": [
    {
     "data": {
      "text/plain": [
       "torch.Size([2, 300])"
      ]
     },
     "execution_count": 792,
     "metadata": {},
     "output_type": "execute_result"
    }
   ],
   "source": [
    "out.shape"
   ]
  },
  {
   "cell_type": "code",
   "execution_count": 290,
   "metadata": {},
   "outputs": [],
   "source": [
    "bn = nn.BatchNorm1d(300)"
   ]
  },
  {
   "cell_type": "markdown",
   "metadata": {},
   "source": [
    "## Running everything"
   ]
  },
  {
   "cell_type": "code",
   "execution_count": 379,
   "metadata": {},
   "outputs": [
    {
     "name": "stdout",
     "output_type": "stream",
     "text": [
      "--2020-06-21 18:57:49--  http://nlp.stanford.edu/data/glove.6B.zip\n",
      "Resolving nlp.stanford.edu (nlp.stanford.edu)... 171.64.67.140\n",
      "Connecting to nlp.stanford.edu (nlp.stanford.edu)|171.64.67.140|:80... connected.\n",
      "HTTP request sent, awaiting response... 302 Found\n",
      "Location: https://nlp.stanford.edu/data/glove.6B.zip [following]\n",
      "--2020-06-21 18:57:49--  https://nlp.stanford.edu/data/glove.6B.zip\n",
      "Connecting to nlp.stanford.edu (nlp.stanford.edu)|171.64.67.140|:443... connected.\n",
      "HTTP request sent, awaiting response... 301 Moved Permanently\n",
      "Location: http://downloads.cs.stanford.edu/nlp/data/glove.6B.zip [following]\n",
      "--2020-06-21 18:57:49--  http://downloads.cs.stanford.edu/nlp/data/glove.6B.zip\n",
      "Resolving downloads.cs.stanford.edu (downloads.cs.stanford.edu)... 171.64.64.22\n",
      "Connecting to downloads.cs.stanford.edu (downloads.cs.stanford.edu)|171.64.64.22|:80... connected.\n",
      "HTTP request sent, awaiting response... 200 OK\n",
      "Length: 862182613 (822M) [application/zip]\n",
      "Saving to: ‘glove.6B.zip’\n",
      "\n",
      "glove.6B.zip        100%[===================>] 822.24M  2.01MB/s    in 6m 29s  \n",
      "\n",
      "2020-06-21 19:04:18 (2.11 MB/s) - ‘glove.6B.zip’ saved [862182613/862182613]\n",
      "\n",
      "Archive:  glove.6B.zip\n",
      "  inflating: glove.6B.50d.txt        \n",
      "  inflating: glove.6B.100d.txt       \n",
      "  inflating: glove.6B.200d.txt       \n",
      "  inflating: glove.6B.300d.txt       \n"
     ]
    }
   ],
   "source": [
    "#unpack_glove()"
   ]
  },
  {
   "cell_type": "code",
   "execution_count": 94,
   "metadata": {},
   "outputs": [],
   "source": [
    "disaster = pd.read_csv('nlp-getting-started/train.csv')"
   ]
  },
  {
   "cell_type": "code",
   "execution_count": 95,
   "metadata": {},
   "outputs": [],
   "source": [
    "X = np.array(disaster.text)\n",
    "y = np.array(disaster.target)"
   ]
  },
  {
   "cell_type": "code",
   "execution_count": 107,
   "metadata": {},
   "outputs": [],
   "source": [
    "X_train, X_val, y_train, y_val = train_test_split(X, y, test_size=0.2, random_state=40)"
   ]
  },
  {
   "cell_type": "code",
   "execution_count": 62,
   "metadata": {},
   "outputs": [],
   "source": [
    "word_count = get_vocab(X_train)\n",
    "for word in list(word_count):\n",
    "    if word_count[word] < 5:\n",
    "        del word_count[word]"
   ]
  },
  {
   "cell_type": "code",
   "execution_count": 25,
   "metadata": {},
   "outputs": [],
   "source": [
    "vocab2index = {\"<PAD>\":0, \"UNK\":1} # init with padding and unknown\n",
    "words = [\"<PAD>\", \"UNK\"]\n",
    "for word in word_count:\n",
    "    vocab2index[word] = len(words)\n",
    "    words.append(word)"
   ]
  },
  {
   "cell_type": "code",
   "execution_count": 63,
   "metadata": {},
   "outputs": [],
   "source": [
    "word_vecs = loadGloveModel(gloveFile=\"glove.6B.50d.txt\")\n",
    "word_count = delete_rare_words(word_vecs, word_count)\n",
    "pretrained_weight, vocab, vocab2index = create_embedding_matrix(word_vecs, word_count, emb_size=50)"
   ]
  },
  {
   "cell_type": "code",
   "execution_count": 60,
   "metadata": {},
   "outputs": [],
   "source": [
    "pretrained_weight, vocab, vocab2index = create_embedding_matrix(word_vecs, word_count, emb_size=50)"
   ]
  },
  {
   "cell_type": "code",
   "execution_count": 69,
   "metadata": {},
   "outputs": [
    {
     "data": {
      "text/plain": [
       "array(['', 'UNK', 'Heavy', ..., 'pay', 'peanut', '.:'], dtype='<U22')"
      ]
     },
     "execution_count": 69,
     "metadata": {},
     "output_type": "execute_result"
    }
   ],
   "source": [
    "vocab"
   ]
  },
  {
   "cell_type": "code",
   "execution_count": null,
   "metadata": {},
   "outputs": [],
   "source": [
    "V = len(words)\n",
    "emb_size = 50"
   ]
  },
  {
   "cell_type": "code",
   "execution_count": 108,
   "metadata": {},
   "outputs": [],
   "source": [
    "train_ds = TweetDataset(X_train, y_train, vocab2index)\n",
    "valid_ds = TweetDataset(X_val, y_val, vocab2index)\n",
    "train_dl = DataLoader(train_ds, batch_size=128, shuffle=True)\n",
    "valid_dl = DataLoader(valid_ds, batch_size=128)"
   ]
  },
  {
   "cell_type": "code",
   "execution_count": 73,
   "metadata": {},
   "outputs": [
    {
     "data": {
      "text/plain": [
       "(array([ 0,  0,  0,  0,  0,  0,  0,  0,  0,  0,  0,  0,  1,  1,  2,  3,  4,\n",
       "         5,  6,  7,  8,  9,  1, 10,  1, 11], dtype=int32),\n",
       " 1)"
      ]
     },
     "execution_count": 73,
     "metadata": {},
     "output_type": "execute_result"
    }
   ],
   "source": [
    "train_ds[0]"
   ]
  },
  {
   "cell_type": "code",
   "execution_count": 103,
   "metadata": {},
   "outputs": [],
   "source": [
    "model = Tweet_CNN(V, emb_size)"
   ]
  },
  {
   "cell_type": "code",
   "execution_count": 75,
   "metadata": {},
   "outputs": [],
   "source": [
    "optimizer = torch.optim.Adam(model.parameters(), lr=1e-2)\n",
    "lrs,losses = LR_range_finder(model, optimizer, train_dl)"
   ]
  },
  {
   "cell_type": "code",
   "execution_count": 76,
   "metadata": {},
   "outputs": [
    {
     "data": {
      "image/png": "[encoded data removed]",
      "text/plain": [
       "<Figure size 432x288 with 1 Axes>"
      ]
     },
     "metadata": {
      "needs_background": "light"
     },
     "output_type": "display_data"
    }
   ],
   "source": [
    "plt.plot(lrs, losses)\n",
    "plt.show()"
   ]
  },
  {
   "cell_type": "code",
   "execution_count": 130,
   "metadata": {},
   "outputs": [
    {
     "name": "stdout",
     "output_type": "stream",
     "text": [
      "train_loss 0.296 val_loss 0.510 val_accuracy 0.799 val_f1 0.754\n",
      "train_loss 0.293 val_loss 0.509 val_accuracy 0.802 val_f1 0.760\n",
      "train_loss 0.298 val_loss 0.510 val_accuracy 0.800 val_f1 0.756\n",
      "train_loss 0.296 val_loss 0.509 val_accuracy 0.794 val_f1 0.747\n",
      "train_loss 0.285 val_loss 0.509 val_accuracy 0.802 val_f1 0.762\n",
      "train_loss 0.297 val_loss 0.510 val_accuracy 0.800 val_f1 0.759\n",
      "train_loss 0.291 val_loss 0.507 val_accuracy 0.797 val_f1 0.751\n",
      "train_loss 0.295 val_loss 0.508 val_accuracy 0.796 val_f1 0.750\n",
      "train_loss 0.290 val_loss 0.510 val_accuracy 0.800 val_f1 0.759\n",
      "train_loss 0.292 val_loss 0.509 val_accuracy 0.799 val_f1 0.758\n",
      "train_loss 0.290 val_loss 0.509 val_accuracy 0.796 val_f1 0.746\n",
      "train_loss 0.298 val_loss 0.509 val_accuracy 0.798 val_f1 0.754\n",
      "train_loss 0.292 val_loss 0.509 val_accuracy 0.800 val_f1 0.760\n",
      "train_loss 0.288 val_loss 0.509 val_accuracy 0.797 val_f1 0.751\n",
      "train_loss 0.296 val_loss 0.508 val_accuracy 0.800 val_f1 0.761\n",
      "train_loss 0.292 val_loss 0.509 val_accuracy 0.796 val_f1 0.747\n",
      "train_loss 0.295 val_loss 0.508 val_accuracy 0.797 val_f1 0.751\n",
      "train_loss 0.294 val_loss 0.512 val_accuracy 0.796 val_f1 0.746\n",
      "train_loss 0.290 val_loss 0.509 val_accuracy 0.796 val_f1 0.748\n",
      "train_loss 0.295 val_loss 0.508 val_accuracy 0.799 val_f1 0.755\n",
      "train_loss 0.290 val_loss 0.509 val_accuracy 0.799 val_f1 0.755\n",
      "train_loss 0.291 val_loss 0.510 val_accuracy 0.799 val_f1 0.755\n",
      "train_loss 0.290 val_loss 0.510 val_accuracy 0.802 val_f1 0.760\n",
      "train_loss 0.291 val_loss 0.511 val_accuracy 0.795 val_f1 0.748\n",
      "train_loss 0.295 val_loss 0.508 val_accuracy 0.800 val_f1 0.755\n",
      "train_loss 0.292 val_loss 0.511 val_accuracy 0.796 val_f1 0.750\n",
      "train_loss 0.297 val_loss 0.508 val_accuracy 0.799 val_f1 0.754\n",
      "train_loss 0.295 val_loss 0.508 val_accuracy 0.800 val_f1 0.758\n",
      "train_loss 0.292 val_loss 0.510 val_accuracy 0.795 val_f1 0.748\n",
      "train_loss 0.290 val_loss 0.508 val_accuracy 0.796 val_f1 0.749\n",
      "train_loss 0.293 val_loss 0.506 val_accuracy 0.798 val_f1 0.752\n",
      "train_loss 0.294 val_loss 0.510 val_accuracy 0.800 val_f1 0.759\n",
      "train_loss 0.292 val_loss 0.512 val_accuracy 0.797 val_f1 0.751\n",
      "train_loss 0.297 val_loss 0.510 val_accuracy 0.796 val_f1 0.749\n",
      "train_loss 0.293 val_loss 0.509 val_accuracy 0.799 val_f1 0.755\n",
      "train_loss 0.291 val_loss 0.511 val_accuracy 0.796 val_f1 0.747\n",
      "train_loss 0.295 val_loss 0.510 val_accuracy 0.800 val_f1 0.760\n",
      "train_loss 0.289 val_loss 0.507 val_accuracy 0.797 val_f1 0.751\n",
      "train_loss 0.290 val_loss 0.509 val_accuracy 0.800 val_f1 0.758\n",
      "train_loss 0.288 val_loss 0.511 val_accuracy 0.800 val_f1 0.757\n",
      "train_loss 0.291 val_loss 0.509 val_accuracy 0.796 val_f1 0.749\n",
      "train_loss 0.295 val_loss 0.511 val_accuracy 0.797 val_f1 0.751\n",
      "train_loss 0.295 val_loss 0.512 val_accuracy 0.797 val_f1 0.750\n",
      "train_loss 0.291 val_loss 0.510 val_accuracy 0.796 val_f1 0.747\n",
      "train_loss 0.294 val_loss 0.512 val_accuracy 0.799 val_f1 0.759\n",
      "train_loss 0.300 val_loss 0.508 val_accuracy 0.800 val_f1 0.757\n",
      "train_loss 0.295 val_loss 0.510 val_accuracy 0.800 val_f1 0.757\n",
      "train_loss 0.291 val_loss 0.508 val_accuracy 0.798 val_f1 0.753\n",
      "train_loss 0.293 val_loss 0.508 val_accuracy 0.800 val_f1 0.760\n",
      "train_loss 0.286 val_loss 0.509 val_accuracy 0.801 val_f1 0.760\n",
      "train_loss 0.293 val_loss 0.509 val_accuracy 0.800 val_f1 0.757\n",
      "train_loss 0.287 val_loss 0.511 val_accuracy 0.796 val_f1 0.750\n",
      "train_loss 0.288 val_loss 0.510 val_accuracy 0.798 val_f1 0.754\n",
      "train_loss 0.294 val_loss 0.510 val_accuracy 0.796 val_f1 0.747\n",
      "train_loss 0.285 val_loss 0.510 val_accuracy 0.797 val_f1 0.752\n",
      "train_loss 0.292 val_loss 0.509 val_accuracy 0.800 val_f1 0.756\n",
      "train_loss 0.284 val_loss 0.510 val_accuracy 0.799 val_f1 0.755\n",
      "train_loss 0.290 val_loss 0.509 val_accuracy 0.796 val_f1 0.748\n",
      "train_loss 0.291 val_loss 0.510 val_accuracy 0.797 val_f1 0.751\n",
      "train_loss 0.292 val_loss 0.509 val_accuracy 0.800 val_f1 0.758\n",
      "train_loss 0.292 val_loss 0.510 val_accuracy 0.796 val_f1 0.750\n",
      "train_loss 0.298 val_loss 0.511 val_accuracy 0.798 val_f1 0.754\n",
      "train_loss 0.285 val_loss 0.510 val_accuracy 0.795 val_f1 0.749\n",
      "train_loss 0.293 val_loss 0.509 val_accuracy 0.799 val_f1 0.755\n",
      "train_loss 0.295 val_loss 0.512 val_accuracy 0.797 val_f1 0.751\n",
      "train_loss 0.289 val_loss 0.510 val_accuracy 0.798 val_f1 0.755\n",
      "train_loss 0.293 val_loss 0.507 val_accuracy 0.800 val_f1 0.757\n",
      "train_loss 0.286 val_loss 0.510 val_accuracy 0.798 val_f1 0.753\n",
      "train_loss 0.294 val_loss 0.511 val_accuracy 0.797 val_f1 0.749\n",
      "train_loss 0.295 val_loss 0.510 val_accuracy 0.798 val_f1 0.752\n",
      "train_loss 0.299 val_loss 0.510 val_accuracy 0.800 val_f1 0.758\n",
      "train_loss 0.293 val_loss 0.511 val_accuracy 0.800 val_f1 0.756\n",
      "train_loss 0.293 val_loss 0.509 val_accuracy 0.800 val_f1 0.758\n",
      "train_loss 0.291 val_loss 0.510 val_accuracy 0.800 val_f1 0.757\n",
      "train_loss 0.297 val_loss 0.508 val_accuracy 0.798 val_f1 0.752\n",
      "train_loss 0.290 val_loss 0.512 val_accuracy 0.801 val_f1 0.759\n",
      "train_loss 0.296 val_loss 0.510 val_accuracy 0.798 val_f1 0.758\n",
      "train_loss 0.290 val_loss 0.514 val_accuracy 0.799 val_f1 0.759\n",
      "train_loss 0.285 val_loss 0.510 val_accuracy 0.799 val_f1 0.755\n",
      "train_loss 0.296 val_loss 0.512 val_accuracy 0.800 val_f1 0.756\n",
      "train_loss 0.291 val_loss 0.512 val_accuracy 0.797 val_f1 0.751\n",
      "train_loss 0.293 val_loss 0.510 val_accuracy 0.800 val_f1 0.758\n",
      "train_loss 0.290 val_loss 0.510 val_accuracy 0.800 val_f1 0.759\n",
      "train_loss 0.291 val_loss 0.510 val_accuracy 0.799 val_f1 0.756\n",
      "train_loss 0.290 val_loss 0.510 val_accuracy 0.797 val_f1 0.752\n",
      "train_loss 0.286 val_loss 0.511 val_accuracy 0.798 val_f1 0.754\n",
      "train_loss 0.293 val_loss 0.510 val_accuracy 0.799 val_f1 0.756\n",
      "train_loss 0.286 val_loss 0.512 val_accuracy 0.800 val_f1 0.758\n",
      "train_loss 0.294 val_loss 0.512 val_accuracy 0.802 val_f1 0.761\n",
      "train_loss 0.288 val_loss 0.513 val_accuracy 0.800 val_f1 0.755\n",
      "train_loss 0.286 val_loss 0.511 val_accuracy 0.800 val_f1 0.758\n",
      "train_loss 0.295 val_loss 0.513 val_accuracy 0.800 val_f1 0.757\n",
      "train_loss 0.289 val_loss 0.512 val_accuracy 0.799 val_f1 0.756\n",
      "train_loss 0.287 val_loss 0.513 val_accuracy 0.796 val_f1 0.747\n",
      "train_loss 0.292 val_loss 0.514 val_accuracy 0.798 val_f1 0.753\n",
      "train_loss 0.289 val_loss 0.508 val_accuracy 0.798 val_f1 0.754\n",
      "train_loss 0.291 val_loss 0.511 val_accuracy 0.800 val_f1 0.758\n",
      "train_loss 0.288 val_loss 0.509 val_accuracy 0.798 val_f1 0.754\n",
      "train_loss 0.290 val_loss 0.510 val_accuracy 0.797 val_f1 0.752\n",
      "train_loss 0.289 val_loss 0.510 val_accuracy 0.800 val_f1 0.757\n",
      "train_loss 0.284 val_loss 0.509 val_accuracy 0.798 val_f1 0.754\n",
      "train_loss 0.291 val_loss 0.511 val_accuracy 0.798 val_f1 0.754\n",
      "train_loss 0.294 val_loss 0.511 val_accuracy 0.798 val_f1 0.754\n",
      "train_loss 0.295 val_loss 0.511 val_accuracy 0.799 val_f1 0.758\n",
      "train_loss 0.292 val_loss 0.512 val_accuracy 0.800 val_f1 0.759\n",
      "train_loss 0.292 val_loss 0.510 val_accuracy 0.799 val_f1 0.757\n",
      "train_loss 0.286 val_loss 0.511 val_accuracy 0.798 val_f1 0.755\n",
      "train_loss 0.288 val_loss 0.515 val_accuracy 0.799 val_f1 0.758\n",
      "train_loss 0.289 val_loss 0.511 val_accuracy 0.800 val_f1 0.757\n",
      "train_loss 0.293 val_loss 0.511 val_accuracy 0.799 val_f1 0.756\n",
      "train_loss 0.285 val_loss 0.512 val_accuracy 0.800 val_f1 0.758\n",
      "train_loss 0.285 val_loss 0.512 val_accuracy 0.798 val_f1 0.753\n",
      "train_loss 0.289 val_loss 0.512 val_accuracy 0.796 val_f1 0.750\n",
      "train_loss 0.287 val_loss 0.510 val_accuracy 0.799 val_f1 0.757\n",
      "train_loss 0.285 val_loss 0.514 val_accuracy 0.798 val_f1 0.755\n",
      "train_loss 0.286 val_loss 0.512 val_accuracy 0.801 val_f1 0.761\n",
      "train_loss 0.286 val_loss 0.511 val_accuracy 0.800 val_f1 0.759\n",
      "train_loss 0.290 val_loss 0.514 val_accuracy 0.800 val_f1 0.759\n",
      "train_loss 0.286 val_loss 0.512 val_accuracy 0.798 val_f1 0.753\n",
      "train_loss 0.293 val_loss 0.512 val_accuracy 0.798 val_f1 0.755\n",
      "train_loss 0.293 val_loss 0.513 val_accuracy 0.797 val_f1 0.749\n",
      "train_loss 0.288 val_loss 0.512 val_accuracy 0.799 val_f1 0.756\n",
      "train_loss 0.290 val_loss 0.511 val_accuracy 0.797 val_f1 0.753\n",
      "train_loss 0.290 val_loss 0.514 val_accuracy 0.799 val_f1 0.756\n",
      "train_loss 0.282 val_loss 0.515 val_accuracy 0.798 val_f1 0.755\n",
      "train_loss 0.284 val_loss 0.513 val_accuracy 0.798 val_f1 0.750\n",
      "train_loss 0.289 val_loss 0.511 val_accuracy 0.799 val_f1 0.756\n",
      "train_loss 0.291 val_loss 0.510 val_accuracy 0.798 val_f1 0.753\n",
      "train_loss 0.288 val_loss 0.513 val_accuracy 0.797 val_f1 0.753\n"
     ]
    },
    {
     "name": "stdout",
     "output_type": "stream",
     "text": [
      "train_loss 0.289 val_loss 0.511 val_accuracy 0.799 val_f1 0.756\n",
      "train_loss 0.291 val_loss 0.509 val_accuracy 0.799 val_f1 0.756\n",
      "train_loss 0.288 val_loss 0.511 val_accuracy 0.797 val_f1 0.751\n",
      "train_loss 0.293 val_loss 0.512 val_accuracy 0.797 val_f1 0.751\n",
      "train_loss 0.287 val_loss 0.512 val_accuracy 0.799 val_f1 0.756\n",
      "train_loss 0.288 val_loss 0.510 val_accuracy 0.800 val_f1 0.757\n",
      "train_loss 0.290 val_loss 0.515 val_accuracy 0.797 val_f1 0.752\n",
      "train_loss 0.296 val_loss 0.511 val_accuracy 0.799 val_f1 0.757\n",
      "train_loss 0.285 val_loss 0.512 val_accuracy 0.796 val_f1 0.752\n",
      "train_loss 0.284 val_loss 0.513 val_accuracy 0.801 val_f1 0.760\n",
      "train_loss 0.290 val_loss 0.512 val_accuracy 0.798 val_f1 0.755\n",
      "train_loss 0.281 val_loss 0.512 val_accuracy 0.799 val_f1 0.756\n",
      "train_loss 0.288 val_loss 0.513 val_accuracy 0.798 val_f1 0.756\n",
      "train_loss 0.288 val_loss 0.510 val_accuracy 0.799 val_f1 0.756\n",
      "train_loss 0.287 val_loss 0.510 val_accuracy 0.798 val_f1 0.754\n",
      "train_loss 0.291 val_loss 0.514 val_accuracy 0.798 val_f1 0.756\n",
      "train_loss 0.294 val_loss 0.514 val_accuracy 0.796 val_f1 0.750\n",
      "train_loss 0.286 val_loss 0.514 val_accuracy 0.798 val_f1 0.753\n",
      "train_loss 0.289 val_loss 0.512 val_accuracy 0.797 val_f1 0.753\n",
      "train_loss 0.287 val_loss 0.513 val_accuracy 0.798 val_f1 0.753\n",
      "train_loss 0.284 val_loss 0.513 val_accuracy 0.800 val_f1 0.758\n",
      "train_loss 0.285 val_loss 0.512 val_accuracy 0.798 val_f1 0.756\n",
      "train_loss 0.291 val_loss 0.514 val_accuracy 0.798 val_f1 0.755\n",
      "train_loss 0.288 val_loss 0.514 val_accuracy 0.798 val_f1 0.754\n",
      "train_loss 0.288 val_loss 0.516 val_accuracy 0.796 val_f1 0.748\n",
      "train_loss 0.287 val_loss 0.510 val_accuracy 0.798 val_f1 0.755\n",
      "train_loss 0.292 val_loss 0.512 val_accuracy 0.796 val_f1 0.748\n",
      "train_loss 0.285 val_loss 0.514 val_accuracy 0.800 val_f1 0.757\n",
      "train_loss 0.290 val_loss 0.514 val_accuracy 0.800 val_f1 0.759\n",
      "train_loss 0.288 val_loss 0.516 val_accuracy 0.799 val_f1 0.756\n",
      "train_loss 0.282 val_loss 0.513 val_accuracy 0.798 val_f1 0.751\n",
      "train_loss 0.285 val_loss 0.514 val_accuracy 0.798 val_f1 0.754\n",
      "train_loss 0.290 val_loss 0.512 val_accuracy 0.798 val_f1 0.755\n",
      "train_loss 0.284 val_loss 0.513 val_accuracy 0.800 val_f1 0.757\n",
      "train_loss 0.284 val_loss 0.513 val_accuracy 0.798 val_f1 0.756\n",
      "train_loss 0.289 val_loss 0.512 val_accuracy 0.799 val_f1 0.754\n",
      "train_loss 0.287 val_loss 0.513 val_accuracy 0.798 val_f1 0.755\n",
      "train_loss 0.291 val_loss 0.514 val_accuracy 0.798 val_f1 0.753\n",
      "train_loss 0.288 val_loss 0.512 val_accuracy 0.797 val_f1 0.753\n",
      "train_loss 0.295 val_loss 0.513 val_accuracy 0.799 val_f1 0.754\n",
      "train_loss 0.297 val_loss 0.513 val_accuracy 0.798 val_f1 0.752\n",
      "train_loss 0.288 val_loss 0.512 val_accuracy 0.798 val_f1 0.754\n",
      "train_loss 0.287 val_loss 0.513 val_accuracy 0.798 val_f1 0.756\n",
      "train_loss 0.285 val_loss 0.513 val_accuracy 0.796 val_f1 0.752\n",
      "train_loss 0.292 val_loss 0.513 val_accuracy 0.798 val_f1 0.756\n",
      "train_loss 0.285 val_loss 0.515 val_accuracy 0.800 val_f1 0.758\n",
      "train_loss 0.289 val_loss 0.512 val_accuracy 0.800 val_f1 0.757\n",
      "train_loss 0.286 val_loss 0.512 val_accuracy 0.797 val_f1 0.753\n",
      "train_loss 0.296 val_loss 0.512 val_accuracy 0.798 val_f1 0.754\n",
      "train_loss 0.288 val_loss 0.514 val_accuracy 0.800 val_f1 0.761\n",
      "train_loss 0.285 val_loss 0.515 val_accuracy 0.800 val_f1 0.757\n",
      "train_loss 0.286 val_loss 0.514 val_accuracy 0.801 val_f1 0.760\n",
      "train_loss 0.287 val_loss 0.513 val_accuracy 0.798 val_f1 0.755\n",
      "train_loss 0.290 val_loss 0.512 val_accuracy 0.796 val_f1 0.752\n",
      "train_loss 0.282 val_loss 0.514 val_accuracy 0.799 val_f1 0.753\n",
      "train_loss 0.285 val_loss 0.514 val_accuracy 0.799 val_f1 0.753\n",
      "train_loss 0.282 val_loss 0.514 val_accuracy 0.798 val_f1 0.754\n",
      "train_loss 0.289 val_loss 0.513 val_accuracy 0.798 val_f1 0.754\n",
      "train_loss 0.281 val_loss 0.514 val_accuracy 0.799 val_f1 0.753\n",
      "train_loss 0.288 val_loss 0.515 val_accuracy 0.797 val_f1 0.751\n",
      "train_loss 0.284 val_loss 0.514 val_accuracy 0.798 val_f1 0.754\n",
      "train_loss 0.291 val_loss 0.515 val_accuracy 0.800 val_f1 0.759\n",
      "train_loss 0.283 val_loss 0.512 val_accuracy 0.798 val_f1 0.754\n",
      "train_loss 0.287 val_loss 0.515 val_accuracy 0.798 val_f1 0.754\n",
      "train_loss 0.290 val_loss 0.513 val_accuracy 0.799 val_f1 0.757\n",
      "train_loss 0.293 val_loss 0.512 val_accuracy 0.798 val_f1 0.755\n",
      "train_loss 0.288 val_loss 0.512 val_accuracy 0.800 val_f1 0.758\n",
      "train_loss 0.284 val_loss 0.514 val_accuracy 0.797 val_f1 0.752\n",
      "train_loss 0.290 val_loss 0.510 val_accuracy 0.798 val_f1 0.754\n",
      "train_loss 0.292 val_loss 0.513 val_accuracy 0.798 val_f1 0.753\n",
      "train_loss 0.292 val_loss 0.513 val_accuracy 0.798 val_f1 0.753\n"
     ]
    }
   ],
   "source": [
    "optimizer = torch.optim.Adam(model.parameters(), lr=1e-4)\n",
    "train_epocs(model, optimizer, epochs = 200, max_lr=1e-4)"
   ]
  },
  {
   "cell_type": "markdown",
   "metadata": {},
   "source": [
    "## This is the best Model we have for CNN"
   ]
  },
  {
   "cell_type": "code",
   "execution_count": 123,
   "metadata": {},
   "outputs": [],
   "source": [
    "load_model(model, \"/Users/skwong/Documents/Summer_Module/Deep_Learning/Project/models/model_f1_0.762.pth\")"
   ]
  },
  {
   "cell_type": "code",
   "execution_count": 124,
   "metadata": {},
   "outputs": [],
   "source": [
    "X_train, X_val, y_train, y_val = train_test_split(X, y, test_size=0.2, random_state=40)"
   ]
  },
  {
   "cell_type": "code",
   "execution_count": 125,
   "metadata": {},
   "outputs": [],
   "source": [
    "train_ds = TweetDataset(X_train, y_train, vocab2index)\n",
    "valid_ds = TweetDataset(X_val, y_val, vocab2index)\n",
    "train_dl = DataLoader(train_ds, batch_size=128, shuffle=True)\n",
    "valid_dl = DataLoader(valid_ds, batch_size=128)"
   ]
  },
  {
   "cell_type": "code",
   "execution_count": 126,
   "metadata": {},
   "outputs": [
    {
     "data": {
      "text/plain": [
       "(0.5083029800469517, 0.8030203545633617, 0.7615262321144672)"
      ]
     },
     "execution_count": 126,
     "metadata": {},
     "output_type": "execute_result"
    }
   ],
   "source": [
    "valid_metrics(model)"
   ]
  },
  {
   "cell_type": "markdown",
   "metadata": {},
   "source": [
    "## Do model on Test Data"
   ]
  },
  {
   "cell_type": "code",
   "execution_count": 127,
   "metadata": {},
   "outputs": [],
   "source": [
    "disaster_test = pd.read_csv('nlp-getting-started/test.csv')"
   ]
  },
  {
   "cell_type": "code",
   "execution_count": 129,
   "metadata": {},
   "outputs": [],
   "source": [
    "X_test = np.array(disaster_test.text)\n",
    "test_dl = DataLoader(train_ds, batch_size=128, shuffle=True)"
   ]
  },
  {
   "cell_type": "code",
   "execution_count": null,
   "metadata": {},
   "outputs": [],
   "source": [
    "def valid_metrics(model):\n",
    "    model.eval()\n",
    "    total = 0\n",
    "    sum_loss = 0\n",
    "    correct = 0\n",
    "    y_all = []\n",
    "    y_pred_all = []\n",
    "    for x, y in test_dl:\n",
    "        x = x.long()\n",
    "        out = model(x)\n",
    "        loss = F.binary_cross_entropy_with_logits(out, y)\n",
    "        sum_loss += batch*(loss.item())\n",
    "        total += batch\n",
    "        pred = (out > 0).float()\n",
    "        y_pred_all.extend(pred)\n",
    "        y_all.extend(y)\n",
    "        correct += (pred == y).float().sum().item()\n",
    "    val_loss = sum_loss/total\n",
    "    val_acc = correct/total\n",
    "    val_f1 = f1_score(y_pred_all, y_all)\n",
    "    return val_loss, val_acc, val_f1"
   ]
  }
 ],
 "metadata": {
  "kernelspec": {
   "display_name": "Python 3",
   "language": "python",
   "name": "python3"
  },
  "language_info": {
   "codemirror_mode": {
    "name": "ipython",
    "version": 3
   },
   "file_extension": ".py",
   "mimetype": "text/x-python",
   "name": "python",
   "nbconvert_exporter": "python",
   "pygments_lexer": "ipython3",
   "version": "3.7.6"
  }
 },
 "nbformat": 4,
 "nbformat_minor": 4
}
